{
 "cells": [
  {
   "cell_type": "code",
   "execution_count": 94,
   "id": "2e5fbeaa",
   "metadata": {},
   "outputs": [],
   "source": [
    "from sklearn import datasets\n",
    "from sklearn.cluster import KMeans\n",
    "from sklearn.datasets import make_blobs, make_circles, make_moons\n",
    "from mpl_toolkits.mplot3d import Axes3D\n",
    "from sklearn.model_selection import train_test_split\n",
    "import matplotlib.pyplot as plt\n",
    "import numpy as np\n",
    "import pandas as pd\n",
    "import itertools"
   ]
  },
  {
   "cell_type": "code",
   "execution_count": 150,
   "id": "512f3cf1",
   "metadata": {},
   "outputs": [
    {
     "name": "stdout",
     "output_type": "stream",
     "text": [
      "Converged at iteration 6\n"
     ]
    },
    {
     "ename": "NameError",
     "evalue": "name 'X_fit_' is not defined",
     "output_type": "error",
     "traceback": [
      "\u001b[0;31m---------------------------------------------------------------------------\u001b[0m",
      "\u001b[0;31mNameError\u001b[0m                                 Traceback (most recent call last)",
      "Input \u001b[0;32mIn [150]\u001b[0m, in \u001b[0;36m<cell line: 102>\u001b[0;34m()\u001b[0m\n\u001b[1;32m    109\u001b[0m \u001b[38;5;66;03m#km.fit_predict(X)\u001b[39;00m\n\u001b[1;32m    110\u001b[0m km\u001b[38;5;241m.\u001b[39mfit(X)\n\u001b[0;32m--> 111\u001b[0m temp ,k \u001b[38;5;241m=\u001b[39m \u001b[43mkm\u001b[49m\u001b[38;5;241;43m.\u001b[39;49m\u001b[43mpredict\u001b[49m\u001b[43m(\u001b[49m\u001b[43mX\u001b[49m\u001b[43m)\u001b[49m\n",
      "Input \u001b[0;32mIn [150]\u001b[0m, in \u001b[0;36mKernelKMeans.predict\u001b[0;34m(self, X)\u001b[0m\n\u001b[1;32m     94\u001b[0m \u001b[38;5;28;01mdef\u001b[39;00m \u001b[38;5;21mpredict\u001b[39m(\u001b[38;5;28mself\u001b[39m, X):\n\u001b[0;32m---> 95\u001b[0m     K \u001b[38;5;241m=\u001b[39m \u001b[38;5;28mself\u001b[39m\u001b[38;5;241m.\u001b[39m_get_kernel(X ,\u001b[43mX_fit_\u001b[49m)\n\u001b[1;32m     96\u001b[0m     n_samples \u001b[38;5;241m=\u001b[39m X\u001b[38;5;241m.\u001b[39mshape[\u001b[38;5;241m0\u001b[39m]\n\u001b[1;32m     97\u001b[0m     dist \u001b[38;5;241m=\u001b[39m np\u001b[38;5;241m.\u001b[39mzeros((n_samples, \u001b[38;5;28mself\u001b[39m\u001b[38;5;241m.\u001b[39mn_clusters))\n",
      "\u001b[0;31mNameError\u001b[0m: name 'X_fit_' is not defined"
     ]
    },
    {
     "data": {
      "image/png": "[encoded data removed]",
      "text/plain": [
       "<Figure size 432x288 with 1 Axes>"
      ]
     },
     "metadata": {
      "needs_background": "light"
     },
     "output_type": "display_data"
    }
   ],
   "source": [
    "\"\"\"Kernel K-means\"\"\"\n",
    "\n",
    "import numpy as np\n",
    "\n",
    "from sklearn.base import BaseEstimator, ClusterMixin\n",
    "from sklearn.metrics.pairwise import pairwise_kernels\n",
    "from sklearn.utils import check_random_state\n",
    "\n",
    "\n",
    "class KernelKMeans(BaseEstimator, ClusterMixin):\n",
    "\n",
    "    def __init__(self, n_clusters=3, max_iter=50, tol=1e-3, random_state=None,\n",
    "                 kernel=\"polynomial\", gamma=None, degree=3, coef0=1,\n",
    "                 kernel_params=None, verbose=0):\n",
    "        self.n_clusters = n_clusters\n",
    "        self.max_iter = max_iter\n",
    "        self.tol = tol\n",
    "        self.random_state = random_state\n",
    "        self.kernel = kernel\n",
    "        self.gamma = gamma\n",
    "        self.degree = degree\n",
    "        self.coef0 = coef0\n",
    "        self.kernel_params = kernel_params\n",
    "        self.verbose = verbose\n",
    "        \n",
    "    @property\n",
    "    def _pairwise(self):\n",
    "        return self.kernel == \"precomputed\"\n",
    "\n",
    "    def _get_kernel(self, X, Y=None):\n",
    "        if callable(self.kernel):\n",
    "            params = self.kernel_params or {}\n",
    "        else:\n",
    "            params = {\"gamma\": self.gamma,\n",
    "                      \"degree\": self.degree,\n",
    "                      \"coef0\": self.coef0}\n",
    "        return pairwise_kernels(X, Y, metric=self.kernel,\n",
    "                                filter_params=True, **params)\n",
    "\n",
    "    def fit(self, X, y=None, sample_weight=None):\n",
    "        n_samples = X.shape[0]\n",
    "\n",
    "        K = self._get_kernel(X)\n",
    "\n",
    "        sw = sample_weight if sample_weight else np.ones(n_samples)\n",
    "        self.sample_weight_ = sw\n",
    "\n",
    "        rs = check_random_state(self.random_state)\n",
    "        self.labels_ = rs.randint(self.n_clusters, size=n_samples)\n",
    "\n",
    "        dist = np.zeros((n_samples, self.n_clusters))\n",
    "        self.within_distances_ = np.zeros(self.n_clusters)\n",
    "\n",
    "        for it in range(self.max_iter):\n",
    "            dist.fill(0)\n",
    "            self._compute_dist(K, dist, self.within_distances_,\n",
    "                               update_within=True)\n",
    "            labels_old = self.labels_\n",
    "            self.labels_ = dist.argmin(axis=1)\n",
    "            \n",
    "            n_same = np.sum((self.labels_ - labels_old) == 0)\n",
    "            if 1 - float(n_same) / n_samples < self.tol:\n",
    "                if self.verbose:\n",
    "                    print (\"Converged at iteration\", it + 1)\n",
    "                break\n",
    "\n",
    "        self.X_fit_ = X\n",
    "\n",
    "        return self\n",
    "\n",
    "    def _compute_dist(self, K, dist, within_distances, update_within):\n",
    "\n",
    "        sw = self.sample_weight_\n",
    "\n",
    "        for j in range(self.n_clusters):\n",
    "            mask = self.labels_ == j\n",
    "\n",
    "            if np.sum(mask) == 0:\n",
    "                raise ValueError(\"Empty cluster found, try smaller n_cluster.\")\n",
    "\n",
    "            denom = sw[mask].sum()\n",
    "            denomsq = denom * denom\n",
    "\n",
    "            if update_within:\n",
    "                KK = K[mask][:, mask]  # K[mask, mask] does not work.\n",
    "                dist_j = np.sum(np.outer(sw[mask], sw[mask]) * KK / denomsq)\n",
    "                within_distances[j] = dist_j\n",
    "                dist[:, j] += dist_j\n",
    "            else:\n",
    "                dist[:, j] += within_distances[j]\n",
    "\n",
    "            dist[:, j] -= 2 * np.sum(sw[mask] * K[:, mask], axis=1) / denom\n",
    "\n",
    "    def predict(self, X):\n",
    "        K = self._get_kernel(X ,X_fit_)\n",
    "        n_samples = X.shape[0]\n",
    "        dist = np.zeros((n_samples, self.n_clusters))\n",
    "        self._compute_dist(K, dist, self.within_distances_,\n",
    "                           update_within=False)\n",
    "        return dist.argmin(axis=1) ,k\n",
    "\n",
    "if __name__ == '__main__':\n",
    "    from sklearn.datasets import make_moons\n",
    "    X, y = make_moons(n_samples=100)\n",
    "    \n",
    "    plt.scatter(X[:, 0], X[: ,1],c=y, edgecolor='k', alpha=0.5)\n",
    "\n",
    "    km = KernelKMeans(n_clusters=2, max_iter=100, random_state=0, verbose=1)\n",
    "    #km.fit_predict(X)\n",
    "    km.fit(X)\n",
    "    temp ,k = km.predict(X)"
   ]
  },
  {
   "cell_type": "code",
   "execution_count": 146,
   "id": "f5128dbb",
   "metadata": {},
   "outputs": [
    {
     "data": {
      "text/plain": [
       "<matplotlib.collections.PathCollection at 0x7feaf8324be0>"
      ]
     },
     "execution_count": 146,
     "metadata": {},
     "output_type": "execute_result"
    },
    {
     "data": {
      "image/png": "[encoded data removed]",
      "text/plain": [
       "<Figure size 432x288 with 1 Axes>"
      ]
     },
     "metadata": {
      "needs_background": "light"
     },
     "output_type": "display_data"
    }
   ],
   "source": [
    "plt.scatter(X[:, 0], X[: ,1],c=temp, edgecolor='k', alpha=0.5)"
   ]
  },
  {
   "cell_type": "code",
   "execution_count": 128,
   "id": "1f953ed7",
   "metadata": {},
   "outputs": [],
   "source": [
    "from scipy.sparse import issparse\n",
    "import numpy as np\n",
    "from sklearn.datasets import make_moons\n",
    "from sklearn.utils import check_array\n",
    "\n",
    "x ,y = make_moons(n_samples=10)"
   ]
  },
  {
   "cell_type": "code",
   "execution_count": 120,
   "id": "24eb6607",
   "metadata": {},
   "outputs": [
    {
     "data": {
      "text/plain": [
       "(10, 2)"
      ]
     },
     "execution_count": 120,
     "metadata": {},
     "output_type": "execute_result"
    }
   ],
   "source": [
    "x.shape"
   ]
  },
  {
   "cell_type": "code",
   "execution_count": 52,
   "id": "506e0336",
   "metadata": {},
   "outputs": [],
   "source": [
    "def _return_float_dtype(X, Y):\n",
    "    \"\"\"\n",
    "    1. If dtype of X and Y is float32, then dtype float32 is returned.\n",
    "    2. Else dtype float is returned.\n",
    "    \"\"\"\n",
    "    if not issparse(X) and not isinstance(X, np.ndarray):\n",
    "        print(\"A\")\n",
    "        X = np.asarray(X)\n",
    "\n",
    "    if Y is None:\n",
    "        print(\"B\")\n",
    "        Y_dtype = X.dtype\n",
    "    elif not issparse(Y) and not isinstance(Y, np.ndarray):\n",
    "        print(\"C\")\n",
    "        Y = np.asarray(Y)\n",
    "        Y_dtype = Y.dtype\n",
    "    else:\n",
    "        print(\"D\")\n",
    "        Y_dtype = Y.dtype\n",
    "\n",
    "    if X.dtype == Y_dtype == np.float32:\n",
    "        print(\"F\")\n",
    "        dtype = np.float32\n",
    "    else:\n",
    "        print(\"E\")\n",
    "        dtype = float\n",
    "\n",
    "    return X, Y, dtype"
   ]
  },
  {
   "cell_type": "code",
   "execution_count": 101,
   "id": "9c9c3a4d",
   "metadata": {},
   "outputs": [],
   "source": [
    "def check_pairwise_arrays(\n",
    "    X,\n",
    "    Y,\n",
    "    *,\n",
    "    precomputed=False,\n",
    "    dtype=None,\n",
    "    accept_sparse=\"csr\",\n",
    "    force_all_finite=True,\n",
    "    copy=False,\n",
    "):\n",
    "   \n",
    "    X, Y, dtype_float = _return_float_dtype(X, Y)\n",
    "\n",
    "    estimator = \"check_pairwise_arrays\"\n",
    "    if dtype is None:\n",
    "        dtype = dtype_float\n",
    "\n",
    "    if Y is X or Y is None:\n",
    "        X = Y = check_array(\n",
    "            X,\n",
    "            accept_sparse=accept_sparse,\n",
    "            dtype=dtype,\n",
    "            copy=copy,\n",
    "            force_all_finite=force_all_finite,\n",
    "            estimator=estimator,\n",
    "        )\n",
    "    else:\n",
    "        X = check_array(\n",
    "            X,\n",
    "            accept_sparse=accept_sparse,\n",
    "            dtype=dtype,\n",
    "            copy=copy,\n",
    "            force_all_finite=force_all_finite,\n",
    "            estimator=estimator,\n",
    "        )\n",
    "        Y = check_array(\n",
    "            Y,\n",
    "            accept_sparse=accept_sparse,\n",
    "            dtype=dtype,\n",
    "            copy=copy,\n",
    "            force_all_finite=force_all_finite,\n",
    "            estimator=estimator,\n",
    "        )\n",
    "\n",
    "    if precomputed:\n",
    "        if X.shape[1] != Y.shape[0]:\n",
    "            raise ValueError(\n",
    "                \"Precomputed metric requires shape \"\n",
    "                \"(n_queries, n_indexed). Got (%d, %d) \"\n",
    "                \"for %d indexed.\" % (X.shape[0], X.shape[1], Y.shape[0])\n",
    "            )\n",
    "    elif X.shape[1] != Y.shape[1]:\n",
    "        raise ValueError(\n",
    "            \"Incompatible dimension for X and Y matrices: \"\n",
    "            \"X.shape[1] == %d while Y.shape[1] == %d\" % (X.shape[1], Y.shape[1])\n",
    "        )\n",
    "\n",
    "    return X, Y\n",
    "\n"
   ]
  },
  {
   "cell_type": "code",
   "execution_count": 102,
   "id": "823e6174",
   "metadata": {},
   "outputs": [
    {
     "name": "stdout",
     "output_type": "stream",
     "text": [
      "D\n",
      "E\n"
     ]
    }
   ],
   "source": [
    "X , Y ,d = _return_float_dtype(x ,y)"
   ]
  },
  {
   "cell_type": "code",
   "execution_count": 103,
   "id": "c1eccd90",
   "metadata": {},
   "outputs": [
    {
     "data": {
      "text/plain": [
       "(10, 2)"
      ]
     },
     "execution_count": 103,
     "metadata": {},
     "output_type": "execute_result"
    }
   ],
   "source": [
    "x.shape"
   ]
  },
  {
   "cell_type": "code",
   "execution_count": 104,
   "id": "0b51c74a",
   "metadata": {},
   "outputs": [],
   "source": [
    "from sklearn.metrics import pairwise"
   ]
  },
  {
   "cell_type": "code",
   "execution_count": 111,
   "id": "8ad2ac94",
   "metadata": {},
   "outputs": [],
   "source": [
    "X = pairwise.polynomial_kernel(x)"
   ]
  },
  {
   "cell_type": "code",
   "execution_count": 112,
   "id": "d1a97b55",
   "metadata": {},
   "outputs": [],
   "source": [
    "from sklearn import datasets\n",
    "from sklearn.cluster import KMeans\n",
    "from sklearn.datasets import make_blobs, make_circles, make_moons\n",
    "from mpl_toolkits.mplot3d import Axes3D\n",
    "from sklearn.model_selection import train_test_split\n",
    "import matplotlib.pyplot as plt\n",
    "import numpy as np\n",
    "import pandas as pd\n",
    "import itertools"
   ]
  },
  {
   "cell_type": "code",
   "execution_count": 113,
   "id": "db07c795",
   "metadata": {},
   "outputs": [
    {
     "data": {
      "text/plain": [
       "(10, 10)"
      ]
     },
     "execution_count": 113,
     "metadata": {},
     "output_type": "execute_result"
    }
   ],
   "source": [
    "X.shape"
   ]
  },
  {
   "cell_type": "code",
   "execution_count": 114,
   "id": "99201bd4",
   "metadata": {},
   "outputs": [
    {
     "data": {
      "text/plain": [
       "array([[3.37500000e+00, 1.50682044e+00, 1.00000000e+00, 1.25000000e-01,\n",
       "        2.70145654e-01, 2.47985435e+00, 8.00000000e+00, 6.36817956e+00,\n",
       "        1.00000000e+00, 3.37500000e+00],\n",
       "       [1.50682044e+00, 1.20570467e+00, 8.52573588e-01, 6.21859217e-01,\n",
       "        5.57895642e-01, 1.09377790e+00, 1.91177894e+00, 2.05539069e+00,\n",
       "        7.20399308e-01, 1.72033603e+00],\n",
       "       [1.00000000e+00, 8.52573588e-01, 1.42382812e+00, 1.00000000e+00,\n",
       "        1.62960436e+00, 1.62960436e+00, 1.42382812e+00, 8.52573588e-01,\n",
       "        1.95312500e+00, 6.69921875e-01],\n",
       "       [1.25000000e-01, 6.21859217e-01, 1.00000000e+00, 3.37500000e+00,\n",
       "        2.47985435e+00, 2.70145654e-01, 0.00000000e+00, 3.14078323e-03,\n",
       "        1.00000000e+00, 1.25000000e-01],\n",
       "       [2.70145654e-01, 5.57895642e-01, 1.62960436e+00, 2.47985435e+00,\n",
       "        3.37500000e+00, 1.00000000e+00, 1.03604406e-01, 3.37682068e-02,\n",
       "        2.47985435e+00, 1.03604406e-01],\n",
       "       [2.47985435e+00, 1.09377790e+00, 1.62960436e+00, 2.70145654e-01,\n",
       "        1.00000000e+00, 3.37500000e+00, 6.68593440e+00, 3.58389559e+00,\n",
       "        2.47985435e+00, 1.62960436e+00],\n",
       "       [8.00000000e+00, 1.91177894e+00, 1.42382812e+00, 0.00000000e+00,\n",
       "        1.03604406e-01, 6.68593440e+00, 3.05175781e+01, 1.87221426e+01,\n",
       "        1.95312500e+00, 6.59179688e+00],\n",
       "       [6.36817956e+00, 2.05539069e+00, 8.52573588e-01, 3.14078323e-03,\n",
       "        3.37682068e-02, 3.58389559e+00, 1.87221426e+01, 1.52263159e+01,\n",
       "        7.20399308e-01, 6.91688692e+00],\n",
       "       [1.00000000e+00, 7.20399308e-01, 1.95312500e+00, 1.00000000e+00,\n",
       "        2.47985435e+00, 2.47985435e+00, 1.95312500e+00, 7.20399308e-01,\n",
       "        3.37500000e+00, 4.21875000e-01],\n",
       "       [3.37500000e+00, 1.72033603e+00, 6.69921875e-01, 1.25000000e-01,\n",
       "        1.03604406e-01, 1.62960436e+00, 6.59179688e+00, 6.91688692e+00,\n",
       "        4.21875000e-01, 4.29101562e+00]])"
      ]
     },
     "execution_count": 114,
     "metadata": {},
     "output_type": "execute_result"
    }
   ],
   "source": [
    "X"
   ]
  },
  {
   "cell_type": "code",
   "execution_count": 115,
   "id": "11f0d0c3",
   "metadata": {},
   "outputs": [
    {
     "data": {
      "text/plain": [
       "array([1, 1, 1, 0, 1, 0, 0, 1, 1, 0, 1, 1, 1, 0, 0, 0, 1, 1, 1, 1, 0, 1,\n",
       "       1, 0, 0, 0, 0, 1, 0, 0, 1, 0, 0, 0, 1, 1, 1, 0, 0, 0, 1, 1, 0, 0,\n",
       "       0, 1, 0, 0, 0, 0, 0, 1, 0, 0, 1, 1, 0, 0, 1, 1, 1, 1, 1, 0, 0, 0,\n",
       "       1, 0, 1, 1, 1, 0, 1, 0, 0, 0, 1, 1, 1, 1, 1, 1, 0, 0, 1, 1, 0, 0,\n",
       "       1, 0, 1, 0, 0, 1, 1, 0, 0, 1, 1, 0])"
      ]
     },
     "execution_count": 115,
     "metadata": {},
     "output_type": "execute_result"
    }
   ],
   "source": [
    "y"
   ]
  },
  {
   "cell_type": "code",
   "execution_count": 118,
   "id": "ac054177",
   "metadata": {},
   "outputs": [
    {
     "data": {
      "text/plain": [
       "<matplotlib.collections.PathCollection at 0x7feae8a87d30>"
      ]
     },
     "execution_count": 118,
     "metadata": {},
     "output_type": "execute_result"
    },
    {
     "data": {
      "image/png": "[encoded data removed]",
      "text/plain": [
       "<Figure size 432x288 with 1 Axes>"
      ]
     },
     "metadata": {
      "needs_background": "light"
     },
     "output_type": "display_data"
    }
   ],
   "source": [
    "plt.scatter(X[:,0],X[:,4],\n",
    "            edgecolor='k', alpha=0.5)"
   ]
  },
  {
   "cell_type": "code",
   "execution_count": 151,
   "id": "48e42a0a",
   "metadata": {},
   "outputs": [],
   "source": [
    "from sklearn.utils.extmath import safe_sparse_dot"
   ]
  },
  {
   "cell_type": "code",
   "execution_count": 155,
   "id": "85939db6",
   "metadata": {},
   "outputs": [],
   "source": [
    "def polynomial_kernel(X, Y=None, degree=3, gamma=None, coef0=1):\n",
    "    \n",
    "    X, Y = check_pairwise_arrays(X, Y)\n",
    "    if gamma is None:\n",
    "        gamma = 1.0 / X.shape[1]\n",
    "\n",
    "    K = safe_sparse_dot(X, Y.T, dense_output=True)\n",
    "    K *= gamma\n",
    "    K += coef0\n",
    "    K **= degree\n",
    "    return K\n"
   ]
  },
  {
   "cell_type": "code",
   "execution_count": 178,
   "id": "92c8eb73",
   "metadata": {},
   "outputs": [],
   "source": [
    "X, y = make_moons(n_samples=10)\n",
    "tempData = X"
   ]
  },
  {
   "cell_type": "code",
   "execution_count": 179,
   "id": "08ffb190",
   "metadata": {},
   "outputs": [
    {
     "data": {
      "text/plain": [
       "<matplotlib.collections.PathCollection at 0x7feae8b45fd0>"
      ]
     },
     "execution_count": 179,
     "metadata": {},
     "output_type": "execute_result"
    },
    {
     "data": {
      "image/png": "[encoded data removed]",
      "text/plain": [
       "<Figure size 432x288 with 1 Axes>"
      ]
     },
     "metadata": {
      "needs_background": "light"
     },
     "output_type": "display_data"
    }
   ],
   "source": [
    "plt.scatter(X[:,0] ,X[:,1] ,c = y)"
   ]
  },
  {
   "cell_type": "code",
   "execution_count": 180,
   "id": "48077bab",
   "metadata": {},
   "outputs": [
    {
     "name": "stdout",
     "output_type": "stream",
     "text": [
      "B\n",
      "E\n"
     ]
    }
   ],
   "source": [
    "X = polynomial_kernel(X)"
   ]
  },
  {
   "cell_type": "code",
   "execution_count": 181,
   "id": "55692a6c",
   "metadata": {},
   "outputs": [
    {
     "data": {
      "text/plain": [
       "(10, 10)"
      ]
     },
     "execution_count": 181,
     "metadata": {},
     "output_type": "execute_result"
    }
   ],
   "source": [
    "X.shape"
   ]
  },
  {
   "cell_type": "code",
   "execution_count": 182,
   "id": "f5dc95a2",
   "metadata": {},
   "outputs": [
    {
     "data": {
      "text/plain": [
       "array([1, 0, 1, 1, 0, 0, 1, 0, 0, 1], dtype=int32)"
      ]
     },
     "execution_count": 182,
     "metadata": {},
     "output_type": "execute_result"
    }
   ],
   "source": [
    "k_means = KMeans(n_clusters=2, random_state=0).fit(X)\n",
    "temp = k_means.predict(X)\n",
    "temp"
   ]
  },
  {
   "cell_type": "code",
   "execution_count": 185,
   "id": "5523b918",
   "metadata": {},
   "outputs": [
    {
     "data": {
      "text/plain": [
       "<matplotlib.collections.PathCollection at 0x7feb1ba7be50>"
      ]
     },
     "execution_count": 185,
     "metadata": {},
     "output_type": "execute_result"
    },
    {
     "data": {
      "image/png": "[encoded data removed]",
      "text/plain": [
       "<Figure size 432x288 with 1 Axes>"
      ]
     },
     "metadata": {
      "needs_background": "light"
     },
     "output_type": "display_data"
    }
   ],
   "source": [
    "plt.scatter(tempData[:,0] ,tempData[:,1] ,c = y)"
   ]
  },
  {
   "cell_type": "code",
   "execution_count": 184,
   "id": "7f34e709",
   "metadata": {},
   "outputs": [
    {
     "data": {
      "text/plain": [
       "<matplotlib.collections.PathCollection at 0x7feb4c9eda30>"
      ]
     },
     "execution_count": 184,
     "metadata": {},
     "output_type": "execute_result"
    },
    {
     "data": {
      "image/png": "[encoded data removed]",
      "text/plain": [
       "<Figure size 432x288 with 1 Axes>"
      ]
     },
     "metadata": {
      "needs_background": "light"
     },
     "output_type": "display_data"
    }
   ],
   "source": [
    "plt.scatter(tempData[:,0] ,tempData[:,1] ,c = temp)"
   ]
  },
  {
   "cell_type": "code",
   "execution_count": 186,
   "id": "b0ea2313",
   "metadata": {},
   "outputs": [
    {
     "data": {
      "image/png": "[encoded data removed]",
      "text/plain": [
       "<Figure size 288x216 with 1 Axes>"
      ]
     },
     "metadata": {},
     "output_type": "display_data"
    },
    {
     "data": {
      "image/png": "[encoded data removed]",
      "text/plain": [
       "<Figure size 288x216 with 1 Axes>"
      ]
     },
     "metadata": {},
     "output_type": "display_data"
    },
    {
     "data": {
      "image/png": "[encoded data removed]",
      "text/plain": [
       "<Figure size 288x216 with 1 Axes>"
      ]
     },
     "metadata": {},
     "output_type": "display_data"
    }
   ],
   "source": [
    "import numpy as np\n",
    "import matplotlib.pyplot as plt\n",
    "from sklearn import svm\n",
    "\n",
    "\n",
    "# Our dataset and targets\n",
    "X = np.c_[\n",
    "    (0.4, -0.7),\n",
    "    (-1.5, -1),\n",
    "    (-1.4, -0.9),\n",
    "    (-1.3, -1.2),\n",
    "    (-1.1, -0.2),\n",
    "    (-1.2, -0.4),\n",
    "    (-0.5, 1.2),\n",
    "    (-1.5, 2.1),\n",
    "    (1, 1),\n",
    "    # --\n",
    "    (1.3, 0.8),\n",
    "    (1.2, 0.5),\n",
    "    (0.2, -2),\n",
    "    (0.5, -2.4),\n",
    "    (0.2, -2.3),\n",
    "    (0, -2.7),\n",
    "    (1.3, 2.1),\n",
    "].T\n",
    "Y = [0] * 8 + [1] * 8\n",
    "\n",
    "# figure number\n",
    "fignum = 1\n",
    "\n",
    "# fit the model\n",
    "for kernel in (\"linear\", \"poly\", \"rbf\"):\n",
    "    clf = svm.SVC(kernel=kernel, gamma=2)\n",
    "    clf.fit(X, Y)\n",
    "\n",
    "    # plot the line, the points, and the nearest vectors to the plane\n",
    "    plt.figure(fignum, figsize=(4, 3))\n",
    "    plt.clf()\n",
    "\n",
    "    plt.scatter(\n",
    "        clf.support_vectors_[:, 0],\n",
    "        clf.support_vectors_[:, 1],\n",
    "        s=80,\n",
    "        facecolors=\"none\",\n",
    "        zorder=10,\n",
    "        edgecolors=\"k\",\n",
    "    )\n",
    "    plt.scatter(X[:, 0], X[:, 1], c=Y, zorder=10, cmap=plt.cm.Paired, edgecolors=\"k\")\n",
    "\n",
    "    plt.axis(\"tight\")\n",
    "    x_min = -3\n",
    "    x_max = 3\n",
    "    y_min = -3\n",
    "    y_max = 3\n",
    "\n",
    "    XX, YY = np.mgrid[x_min:x_max:200j, y_min:y_max:200j]\n",
    "    Z = clf.decision_function(np.c_[XX.ravel(), YY.ravel()])\n",
    "\n",
    "    # Put the result into a color plot\n",
    "    Z = Z.reshape(XX.shape)\n",
    "    plt.figure(fignum, figsize=(4, 3))\n",
    "    plt.pcolormesh(XX, YY, Z > 0, cmap=plt.cm.Paired)\n",
    "    plt.contour(\n",
    "        XX,\n",
    "        YY,\n",
    "        Z,\n",
    "        colors=[\"k\", \"k\", \"k\"],\n",
    "        linestyles=[\"--\", \"-\", \"--\"],\n",
    "        levels=[-0.5, 0, 0.5],\n",
    "    )\n",
    "\n",
    "    plt.xlim(x_min, x_max)\n",
    "    plt.ylim(y_min, y_max)\n",
    "\n",
    "    plt.xticks(())\n",
    "    plt.yticks(())\n",
    "    fignum = fignum + 1\n",
    "plt.show()"
   ]
  }
 ],
 "metadata": {
  "kernelspec": {
   "display_name": "Python 3 (ipykernel)",
   "language": "python",
   "name": "python3"
  },
  "language_info": {
   "codemirror_mode": {
    "name": "ipython",
    "version": 3
   },
   "file_extension": ".py",
   "mimetype": "text/x-python",
   "name": "python",
   "nbconvert_exporter": "python",
   "pygments_lexer": "ipython3",
   "version": "3.9.12"
  }
 },
 "nbformat": 4,
 "nbformat_minor": 5
}
